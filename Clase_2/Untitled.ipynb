{
 "cells": [
  {
   "cell_type": "markdown",
   "id": "37e45de8-40e8-477a-b146-45de3e5ac400",
   "metadata": {
    "tags": []
   },
   "source": [
    "#Importando librerias"
   ]
  },
  {
   "cell_type": "code",
   "execution_count": null,
   "id": "c585cd0d-cdb0-45fd-8bca-8aaa2d1120c2",
   "metadata": {},
   "outputs": [],
   "source": [
    "import cv2 \n",
    "from matplotlib import pyplot as plt"
   ]
  },
  {
   "cell_type": "code",
   "execution_count": null,
   "id": "c73e5691-cdd5-450d-a2d0-798d4afaf793",
   "metadata": {},
   "outputs": [],
   "source": []
  }
 ],
 "metadata": {
  "kernelspec": {
   "display_name": "Python 3 (ipykernel)",
   "language": "python",
   "name": "python3"
  },
  "language_info": {
   "codemirror_mode": {
    "name": "ipython",
    "version": 3
   },
   "file_extension": ".py",
   "mimetype": "text/x-python",
   "name": "python",
   "nbconvert_exporter": "python",
   "pygments_lexer": "ipython3",
   "version": "3.11.2"
  }
 },
 "nbformat": 4,
 "nbformat_minor": 5
}
